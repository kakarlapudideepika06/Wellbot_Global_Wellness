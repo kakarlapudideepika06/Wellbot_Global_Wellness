{
 "cells": [
  {
   "cell_type": "code",
   "execution_count": 3,
   "id": "cb980856-27b8-44e2-a834-9cd1e8207ff1",
   "metadata": {},
   "outputs": [
    {
     "name": "stdout",
     "output_type": "stream",
     "text": [
      "✅ Cleaning complete. Files saved as 'cleaned_fitness_dataset.csv' and 'cleaned_mental_health_dataset.csv'\n"
     ]
    }
   ],
   "source": [
    "import pandas as pd\n",
    "\n",
    "# -----------------------------\n",
    "# 1️⃣ LOAD DATA\n",
    "# -----------------------------\n",
    "fitness_df = pd.read_csv(\"health_fitness_dataset.csv\")\n",
    "mental_df = pd.read_csv(\"mental_health_dataset.csv\")\n",
    "\n",
    "# -----------------------------\n",
    "# 2️⃣ CLEAN FITNESS DATA\n",
    "# -----------------------------\n",
    "# Drop duplicates\n",
    "fitness_df = fitness_df.drop_duplicates()\n",
    "\n",
    "# Fill missing numeric values with mean\n",
    "numeric_cols_fitness = [\"hours_sleep\", \"stress_level\", \"calories_burned\", \"daily_steps\",\n",
    "                        \"hydration_level\", \"bmi\", \"avg_heart_rate\", \"resting_heart_rate\",\n",
    "                        \"blood_pressure_systolic\", \"blood_pressure_diastolic\", \"fitness_level\"]\n",
    "for col in numeric_cols_fitness:\n",
    "    if col in fitness_df.columns:\n",
    "        fitness_df[col] = fitness_df[col].fillna(fitness_df[col].mean())\n",
    "\n",
    "# Standardize text columns\n",
    "text_cols_fitness = [\"gender\", \"intensity\", \"smoking_status\", \"activity_type\", \"health_condition\"]\n",
    "for col in text_cols_fitness:\n",
    "    if col in fitness_df.columns:\n",
    "        fitness_df[col] = fitness_df[col].astype(str).str.strip().str.capitalize()\n",
    "\n",
    "# -----------------------------\n",
    "# 3️⃣ CLEAN MENTAL HEALTH DATA\n",
    "# -----------------------------\n",
    "mental_df = mental_df.drop_duplicates()\n",
    "\n",
    "# Rename columns for consistency\n",
    "mental_df.rename(columns={\n",
    "    \"Age\": \"age\",\n",
    "    \"Gender\": \"gender\",\n",
    "    \"Exercise Level\": \"exercise_frequency\",\n",
    "    \"Diet Type\": \"diet_type\",\n",
    "    \"Sleep Hours\": \"sleep_hours\",\n",
    "    \"Stress Level\": \"stress_level\",\n",
    "    \"Mental Health Condition\": \"mental_health_condition\",\n",
    "    \"Social Interaction Score\": \"social_interaction_score\",\n",
    "    \"Happiness Score\": \"happiness_index\"\n",
    "}, inplace=True)\n",
    "\n",
    "# Standardize text columns\n",
    "text_cols_mental = [\"gender\", \"diet_type\", \"exercise_frequency\", \"stress_level\", \"mental_health_condition\"]\n",
    "for col in text_cols_mental:\n",
    "    if col in mental_df.columns:\n",
    "        mental_df[col] = mental_df[col].astype(str).str.strip().str.capitalize()\n",
    "\n",
    "# Fill numeric missing values with mean\n",
    "numeric_cols_mental = [\"sleep_hours\", \"exercise_frequency\", \"social_interaction_score\", \"happiness_index\"]\n",
    "for col in numeric_cols_mental:\n",
    "    if col in mental_df.columns:\n",
    "        mental_df[col] = pd.to_numeric(mental_df[col], errors='coerce')\n",
    "        mental_df[col] = mental_df[col].fillna(mental_df[col].mean())\n",
    "\n",
    "# -----------------------------\n",
    "# 4️⃣ SAVE CLEANED DATA\n",
    "# -----------------------------\n",
    "fitness_df.to_csv(\"cleaned_fitness_dataset.csv\", index=False)\n",
    "mental_df.to_csv(\"cleaned_mental_health_dataset.csv\", index=False)\n",
    "\n",
    "print(\"✅ Cleaning complete. Files saved as 'cleaned_fitness_dataset.csv' and 'cleaned_mental_health_dataset.csv'\")\n"
   ]
  },
  {
   "cell_type": "code",
   "execution_count": null,
   "id": "b6404b4c-e5ca-4294-81cb-a4ac9669ce6e",
   "metadata": {},
   "outputs": [],
   "source": []
  }
 ],
 "metadata": {
  "kernelspec": {
   "display_name": "Python [conda env:base] *",
   "language": "python",
   "name": "conda-base-py"
  },
  "language_info": {
   "codemirror_mode": {
    "name": "ipython",
    "version": 3
   },
   "file_extension": ".py",
   "mimetype": "text/x-python",
   "name": "python",
   "nbconvert_exporter": "python",
   "pygments_lexer": "ipython3",
   "version": "3.12.7"
  }
 },
 "nbformat": 4,
 "nbformat_minor": 5
}
